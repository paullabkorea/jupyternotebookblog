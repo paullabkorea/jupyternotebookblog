{
  "nbformat": 4,
  "nbformat_minor": 0,
  "metadata": {
    "colab": {
      "name": "2021_07_05_데이터분석_numpy.ipynb",
      "provenance": []
    },
    "kernelspec": {
      "name": "python3",
      "display_name": "Python 3"
    },
    "language_info": {
      "name": "python"
    }
  },
  "cells": [
    {
      "cell_type": "markdown",
      "metadata": {
        "id": "i1qvMYQsSubb"
      },
      "source": [
        "# \"데이터 분석 Python 기초 문법 노트북\"\n",
        "> \"2021년 여름방학 데이터분석을 위한 Python 기초문법\"\n",
        "\n",
        "- toc:true\n",
        "- branch: master\n",
        "- badges: true\n",
        "- comments: true\n",
        "- author: leehojun\n",
        "- categories: [python, 데이터분석, numpy]"
      ]
    },
    {
      "cell_type": "code",
      "metadata": {
        "colab": {
          "base_uri": "https://localhost:8080/"
        },
        "id": "kFfzqFscSpo2",
        "outputId": "22b83ee5-7612-4b71-aa39-ee4efe92acc9"
      },
      "source": [
        "리스트 = [[1, 2, 3], [4, 5, 6], [7, 8, 9]]\n",
        "리스트[0][0]\n",
        "리스트[0]\n",
        "리스트[2][0]\n",
        "리스트 * 2"
      ],
      "execution_count": null,
      "outputs": [
        {
          "output_type": "execute_result",
          "data": {
            "text/plain": [
              "[[2, 4, 6], [8, 10, 12], [14, 16, 18]]"
            ]
          },
          "metadata": {
            "tags": []
          },
          "execution_count": 5
        }
      ]
    },
    {
      "cell_type": "code",
      "metadata": {
        "colab": {
          "base_uri": "https://localhost:8080/"
        },
        "id": "9Lg94BA5Vch7",
        "outputId": "32a9e602-974c-47fc-c345-8d82fc606a45"
      },
      "source": [
        "import numpy as np\n",
        "\n",
        "리스트 = [[1, 2, 3], [4, 5, 6], [7, 8, 9]]\n",
        "리스트 = np.array(리스트)\n",
        "리스트 * 2\n",
        "리스트 + 100"
      ],
      "execution_count": null,
      "outputs": [
        {
          "output_type": "execute_result",
          "data": {
            "text/plain": [
              "array([[101, 102, 103],\n",
              "       [104, 105, 106],\n",
              "       [107, 108, 109]])"
            ]
          },
          "metadata": {
            "tags": []
          },
          "execution_count": 8
        }
      ]
    },
    {
      "cell_type": "code",
      "metadata": {
        "colab": {
          "base_uri": "https://localhost:8080/"
        },
        "id": "hqdm2u_LVhOa",
        "outputId": "c86b3aee-a409-4d3b-9ad2-be4b5dfac555"
      },
      "source": [
        "a = np.arange(15).reshape(3, 5)\n",
        "a"
      ],
      "execution_count": null,
      "outputs": [
        {
          "output_type": "execute_result",
          "data": {
            "text/plain": [
              "array([[ 0,  1,  2,  3,  4],\n",
              "       [ 5,  6,  7,  8,  9],\n",
              "       [10, 11, 12, 13, 14]])"
            ]
          },
          "metadata": {
            "tags": []
          },
          "execution_count": 9
        }
      ]
    },
    {
      "cell_type": "code",
      "metadata": {
        "colab": {
          "base_uri": "https://localhost:8080/"
        },
        "id": "VzrPnAtPWKyy",
        "outputId": "da17cafe-3474-4114-8788-db36977c67ec"
      },
      "source": [
        "a = np.arange(20).reshape(4, 5)\n",
        "a"
      ],
      "execution_count": null,
      "outputs": [
        {
          "output_type": "execute_result",
          "data": {
            "text/plain": [
              "array([[ 0,  1,  2,  3,  4],\n",
              "       [ 5,  6,  7,  8,  9],\n",
              "       [10, 11, 12, 13, 14],\n",
              "       [15, 16, 17, 18, 19]])"
            ]
          },
          "metadata": {
            "tags": []
          },
          "execution_count": 10
        }
      ]
    },
    {
      "cell_type": "code",
      "metadata": {
        "colab": {
          "base_uri": "https://localhost:8080/"
        },
        "id": "E8J0elTMWVRi",
        "outputId": "ef9cd355-4fb4-4726-f98e-8598398eb8d2"
      },
      "source": [
        "a = np.arange(20).reshape(2, 2, 5)\n",
        "a[0][1][2]"
      ],
      "execution_count": null,
      "outputs": [
        {
          "output_type": "execute_result",
          "data": {
            "text/plain": [
              "7"
            ]
          },
          "metadata": {
            "tags": []
          },
          "execution_count": 14
        }
      ]
    },
    {
      "cell_type": "code",
      "metadata": {
        "colab": {
          "base_uri": "https://localhost:8080/"
        },
        "id": "jYTKeo18Wkj6",
        "outputId": "80a4fc6e-930f-4cb0-81ba-ac28d335de7d"
      },
      "source": [
        "a = np.arange(15).reshape(3, 5)\n",
        "a\n",
        "a.shape\n",
        "a.ndim\n",
        "a.dtype.name\n",
        "a.itemsize\n",
        "a.size # flat한 데이터 사이즈\n",
        "type(a)"
      ],
      "execution_count": null,
      "outputs": [
        {
          "output_type": "execute_result",
          "data": {
            "text/plain": [
              "numpy.ndarray"
            ]
          },
          "metadata": {
            "tags": []
          },
          "execution_count": 23
        }
      ]
    },
    {
      "cell_type": "code",
      "metadata": {
        "colab": {
          "base_uri": "https://localhost:8080/"
        },
        "id": "BZ0HAIgRYkfS",
        "outputId": "c31a3d48-45a7-46a6-dbf7-917d0f1f076a"
      },
      "source": [
        "np.zeros((3, 4))"
      ],
      "execution_count": null,
      "outputs": [
        {
          "output_type": "execute_result",
          "data": {
            "text/plain": [
              "array([[0., 0., 0., 0.],\n",
              "       [0., 0., 0., 0.],\n",
              "       [0., 0., 0., 0.]])"
            ]
          },
          "metadata": {
            "tags": []
          },
          "execution_count": 24
        }
      ]
    },
    {
      "cell_type": "code",
      "metadata": {
        "colab": {
          "base_uri": "https://localhost:8080/"
        },
        "id": "xZ8U6ItvYnDJ",
        "outputId": "61756a92-969b-4108-9fb3-d36c3c6e962d"
      },
      "source": [
        "np.ones((2, 3), dtype=np.int16)"
      ],
      "execution_count": null,
      "outputs": [
        {
          "output_type": "execute_result",
          "data": {
            "text/plain": [
              "array([[1, 1, 1],\n",
              "       [1, 1, 1]], dtype=int16)"
            ]
          },
          "metadata": {
            "tags": []
          },
          "execution_count": 25
        }
      ]
    },
    {
      "cell_type": "code",
      "metadata": {
        "colab": {
          "base_uri": "https://localhost:8080/"
        },
        "id": "wu50K3uyYw8B",
        "outputId": "1a2b26be-aad8-4c75-8947-3b663e6fc3cd"
      },
      "source": [
        "np.empty((2, 3))"
      ],
      "execution_count": null,
      "outputs": [
        {
          "output_type": "execute_result",
          "data": {
            "text/plain": [
              "array([[4.68254482e-310, 0.00000000e+000, 0.00000000e+000],\n",
              "       [0.00000000e+000, 0.00000000e+000, 0.00000000e+000]])"
            ]
          },
          "metadata": {
            "tags": []
          },
          "execution_count": 26
        }
      ]
    },
    {
      "cell_type": "code",
      "metadata": {
        "colab": {
          "base_uri": "https://localhost:8080/"
        },
        "id": "SAWmKFtZY9Hp",
        "outputId": "c52b45f3-f227-484c-ef35-b72a3c09e76d"
      },
      "source": [
        "np.arange(0, 2, 0.3)"
      ],
      "execution_count": null,
      "outputs": [
        {
          "output_type": "execute_result",
          "data": {
            "text/plain": [
              "array([0. , 0.3, 0.6, 0.9, 1.2, 1.5, 1.8])"
            ]
          },
          "metadata": {
            "tags": []
          },
          "execution_count": 27
        }
      ]
    },
    {
      "cell_type": "code",
      "metadata": {
        "colab": {
          "base_uri": "https://localhost:8080/"
        },
        "id": "WVBHTorOZHbx",
        "outputId": "ad87d580-f104-4f57-dad6-effec8673565"
      },
      "source": [
        "np.linspace(0.5, 10, 20)"
      ],
      "execution_count": null,
      "outputs": [
        {
          "output_type": "execute_result",
          "data": {
            "text/plain": [
              "array([ 0.5,  1. ,  1.5,  2. ,  2.5,  3. ,  3.5,  4. ,  4.5,  5. ,  5.5,\n",
              "        6. ,  6.5,  7. ,  7.5,  8. ,  8.5,  9. ,  9.5, 10. ])"
            ]
          },
          "metadata": {
            "tags": []
          },
          "execution_count": 31
        }
      ]
    },
    {
      "cell_type": "code",
      "metadata": {
        "id": "0_RHLny8dpXp"
      },
      "source": [
        "리스트 = [[10, 2, 3], [4, 5, 6], [7, 8, 9]]\n",
        "a = np.array(리스트)\n",
        "# a.sum(), sum(리스트) # sum(리스트)는 애러납니다. \n",
        "a.min(), min(리스트) \n",
        "a.max(), max(리스트) #2개는 출력하는 결과도 다릅니다."
      ],
      "execution_count": null,
      "outputs": []
    },
    {
      "cell_type": "code",
      "metadata": {
        "colab": {
          "base_uri": "https://localhost:8080/"
        },
        "id": "dFUsAmgNeIQf",
        "outputId": "68887f98-be5f-4216-e7eb-360ef17008ae"
      },
      "source": [
        "b = np.arange(12).reshape(3, 4)\n",
        "b"
      ],
      "execution_count": null,
      "outputs": [
        {
          "output_type": "execute_result",
          "data": {
            "text/plain": [
              "array([[ 0,  1,  2,  3],\n",
              "       [ 4,  5,  6,  7],\n",
              "       [ 8,  9, 10, 11]])"
            ]
          },
          "metadata": {
            "tags": []
          },
          "execution_count": 35
        }
      ]
    },
    {
      "cell_type": "code",
      "metadata": {
        "colab": {
          "base_uri": "https://localhost:8080/"
        },
        "id": "qNVHafvzfX_v",
        "outputId": "a5d177a8-99be-47eb-ceed-5cd322a34ab2"
      },
      "source": [
        "b.sum(axis=0) # col기준으로 row끼리 더한 것(세로)\n",
        "b.sum(axis=1) # row기준으로 col끼리 더한 것(가로)\n",
        "b.sum() # flat하게 모두 더한 것"
      ],
      "execution_count": null,
      "outputs": [
        {
          "output_type": "execute_result",
          "data": {
            "text/plain": [
              "66"
            ]
          },
          "metadata": {
            "tags": []
          },
          "execution_count": 40
        }
      ]
    },
    {
      "cell_type": "code",
      "metadata": {
        "colab": {
          "base_uri": "https://localhost:8080/"
        },
        "id": "yqAz-_kkgbH_",
        "outputId": "10204abc-c063-475b-dd3e-d1b8c5372de8"
      },
      "source": [
        "b.ravel()"
      ],
      "execution_count": null,
      "outputs": [
        {
          "output_type": "execute_result",
          "data": {
            "text/plain": [
              "array([ 0,  1,  2,  3,  4,  5,  6,  7,  8,  9, 10, 11])"
            ]
          },
          "metadata": {
            "tags": []
          },
          "execution_count": 41
        }
      ]
    },
    {
      "cell_type": "code",
      "metadata": {
        "colab": {
          "base_uri": "https://localhost:8080/"
        },
        "id": "_jOckmLagm2Z",
        "outputId": "d9f1f957-d969-4e41-f940-f330553cb016"
      },
      "source": [
        "b.T # 잘써요!\n",
        "# b.transpose() 잘 안써요!"
      ],
      "execution_count": null,
      "outputs": [
        {
          "output_type": "execute_result",
          "data": {
            "text/plain": [
              "array([[ 0,  4,  8],\n",
              "       [ 1,  5,  9],\n",
              "       [ 2,  6, 10],\n",
              "       [ 3,  7, 11]])"
            ]
          },
          "metadata": {
            "tags": []
          },
          "execution_count": 43
        }
      ]
    },
    {
      "cell_type": "code",
      "metadata": {
        "colab": {
          "base_uri": "https://localhost:8080/"
        },
        "id": "96r-LMWmhJUO",
        "outputId": "c0391279-1517-4df2-8dfb-97cabbbc2213"
      },
      "source": [
        "a = np.array([[1, 2], [3, 4]])\n",
        "b = np.floor([[5, 6], [7, 8]])\n",
        "np.vstack((a, b))\n",
        "np.hstack((a, b))"
      ],
      "execution_count": null,
      "outputs": [
        {
          "output_type": "execute_result",
          "data": {
            "text/plain": [
              "array([[1., 2., 5., 6.],\n",
              "       [3., 4., 7., 8.]])"
            ]
          },
          "metadata": {
            "tags": []
          },
          "execution_count": 49
        }
      ]
    },
    {
      "cell_type": "code",
      "metadata": {
        "colab": {
          "base_uri": "https://localhost:8080/"
        },
        "id": "VwdmfkQEh6YX",
        "outputId": "ad6fbf6d-7e3e-418e-db1c-6a6f202dd198"
      },
      "source": [
        "# 매우 많이 사용되는 코드입니다.\n",
        "a = np.arange(12).reshape(3, 4)\n",
        "b = a > 4\n",
        "b"
      ],
      "execution_count": null,
      "outputs": [
        {
          "output_type": "execute_result",
          "data": {
            "text/plain": [
              "array([[False, False, False, False],\n",
              "       [False,  True,  True,  True],\n",
              "       [ True,  True,  True,  True]])"
            ]
          },
          "metadata": {
            "tags": []
          },
          "execution_count": 45
        }
      ]
    },
    {
      "cell_type": "code",
      "metadata": {
        "colab": {
          "base_uri": "https://localhost:8080/"
        },
        "id": "PVugNVtJiNCO",
        "outputId": "b5ac54da-b788-4450-ed96-7460dbb63c62"
      },
      "source": [
        "b.sum()"
      ],
      "execution_count": null,
      "outputs": [
        {
          "output_type": "execute_result",
          "data": {
            "text/plain": [
              "7"
            ]
          },
          "metadata": {
            "tags": []
          },
          "execution_count": 46
        }
      ]
    }
  ]
}