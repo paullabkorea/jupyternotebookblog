{
  "nbformat": 4,
  "nbformat_minor": 2,
  "metadata": {
    "colab": {
      "name": "2021-08-05-LaTex_Test.ipynb",
      "provenance": []
    },
    "kernelspec": {
      "name": "python3",
      "display_name": "Python 3"
    },
    "language_info": {
      "name": "python"
    }
  },
  "cells": [
    {
      "cell_type": "markdown",
      "source": [
        "# fastpages test\r\n",
        "> fastpages LaTex Test\r\n",
        "\r\n",
        "- badges: true\r\n",
        "- comments: true\r\n",
        "- categories: [etc]"
      ],
      "metadata": {
        "id": "azmVaTO7frsM"
      }
    },
    {
      "cell_type": "markdown",
      "source": [
        "### inline \r\n",
        "\r\n",
        "```\r\n",
        "Inline math: $f(x)$\r\n",
        "```\r\n",
        "\r\n",
        "Inline math: $f(x)$\r\n",
        "\r\n",
        "### Full line:\r\n",
        "\r\n",
        "```\r\n",
        "$$ f(x) $$\r\n",
        "```\r\n",
        "\r\n",
        "$$f(x)$$\r\n",
        "\r\n",
        "### test line\r\n",
        "\r\n",
        "github.dev에서 수정"
      ],
      "metadata": {
        "id": "d4EZdMoZfxy5"
      }
    }
  ]
}