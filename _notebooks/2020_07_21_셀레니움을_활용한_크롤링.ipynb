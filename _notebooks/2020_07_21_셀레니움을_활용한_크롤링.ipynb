{
  "nbformat": 4,
  "nbformat_minor": 0,
  "metadata": {
    "colab": {
      "name": "2020-07-21-셀레니움을 활용한 크롤링.ipynb",
      "provenance": [],
      "collapsed_sections": []
    },
    "kernelspec": {
      "name": "python3",
      "display_name": "Python 3"
    },
    "language_info": {
      "name": "python"
    }
  },
  "cells": [
    {
      "cell_type": "markdown",
      "metadata": {
        "id": "jg0mzlPZ67Er"
      },
      "source": [
        "# \"셀레니움을 활용한 크롤링\"\n",
        "> \"셀레니움을 활용한 크롤링(로그인, 클릭 등)\"\n",
        "\n",
        "- toc: true\n",
        "- branch: master\n",
        "- badges: true\n",
        "- comments: true\n",
        "- author: 이호준\n",
        "- categories: [crawling, selenium]"
      ]
    },
    {
      "cell_type": "markdown",
      "metadata": {
        "id": "a40LxE4n7eiR"
      },
      "source": [
        "* [공식문서](https://selenium-python.readthedocs.io/)\n",
        "* [참고문헌](https://greeksharifa.github.io/references/2020/10/30/python-selenium-usage/)"
      ]
    },
    {
      "cell_type": "code",
      "metadata": {
        "id": "BB-WD5K16rtx"
      },
      "source": [
        "!pip install Selenium\n",
        "!apt-get update # to update ubuntu to correctly run apt install\n",
        "!apt install chromium-chromedriver"
      ],
      "execution_count": null,
      "outputs": []
    },
    {
      "cell_type": "code",
      "metadata": {
        "id": "lXw9LGFT7t52"
      },
      "source": [
        "from selenium import webdriver\n",
        "\n",
        "chrome_options = webdriver.ChromeOptions()\n",
        "chrome_options.add_argument('--headless') #내부 창을 띄울 수 없으므로 설정\n",
        "chrome_options.add_argument('--no-sandbox')\n",
        "chrome_options.add_argument('--disable-dev-shm-usage')\n",
        "driver = webdriver.Chrome('chromedriver',chrome_options=chrome_options)\n",
        "\n",
        "driver.get(\"페이지URL\")\n",
        "print(driver.title)\n",
        "html = driver.page_source"
      ],
      "execution_count": null,
      "outputs": []
    },
    {
      "cell_type": "code",
      "metadata": {
        "id": "d__4K0iy7u99"
      },
      "source": [
        "html"
      ],
      "execution_count": null,
      "outputs": []
    },
    {
      "cell_type": "code",
      "metadata": {
        "id": "PC4XxsFb70un"
      },
      "source": [
        "from bs4 import BeautifulSoup\n",
        "\n",
        "soup = BeautifulSoup(html, 'html.parser')\n",
        "\n",
        "data = soup.select('수정필요') # 클래스 '.' , 아이디 '#'"
      ],
      "execution_count": null,
      "outputs": []
    },
    {
      "cell_type": "code",
      "metadata": {
        "id": "UM_XljMa8Yyt"
      },
      "source": [
        "'''\n",
        "# 로그인 소스코드\n",
        "id = driver.find_element_by_id(\"html에 있는 id 창의 ID\")\n",
        "pw = driver.find_element_by_id(\"html에 있는 pw 창의 ID\")\n",
        "\n",
        "id.send_keys(\"여러분아이디\")\n",
        "pw.send_keys(\"여러분패스워드\")\n",
        "\n",
        "pw.send_keys(Keys.ENTER)\n",
        "\n",
        "con = driver.find_element_by_id(\"html에 있는 클릭할 ID\")\n",
        "con.click()\n",
        "\n",
        "---\n",
        "# 구글에 접속했을 경우\n",
        "# 검색 입력 부분에 커서를 올리고\n",
        "# 검색 입력 부분에 다양한 명령을 내리기 위해 elem 변수에 할당한다\n",
        "elem = driver.find_element_by_name(\"q\")\n",
        "\n",
        "# 입력 부분에 default로 값이 있을 수 있어 비운다\n",
        "elem.clear()\n",
        "\n",
        "# 검색어를 입력한다\n",
        "elem.send_keys(\"Selenium\")\n",
        "\n",
        "# 검색을 실행한다\n",
        "elem.submit()\n",
        "'''"
      ],
      "execution_count": null,
      "outputs": []
    }
  ]
}