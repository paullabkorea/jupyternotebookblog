{
  "nbformat": 4,
  "nbformat_minor": 0,
  "metadata": {
    "colab": {
      "name": "2021-08-05-LaTex_Test.ipynb",
      "provenance": []
    },
    "kernelspec": {
      "name": "python3",
      "display_name": "Python 3"
    },
    "language_info": {
      "name": "python"
    }
  },
  "cells": [
    {
      "cell_type": "markdown",
      "metadata": {
        "id": "azmVaTO7frsM"
      },
      "source": [
        "# fastpages test\n",
        "> fastpages LaTex Test\n",
        "\n",
        "- badges: true\n",
        "- comments: true\n",
        "- categories: [etc]"
      ]
    },
    {
      "cell_type": "markdown",
      "metadata": {
        "id": "d4EZdMoZfxy5"
      },
      "source": [
        "### inline \n",
        "\n",
        "```\n",
        "Inline math: $f(x)$\n",
        "```\n",
        "\n",
        "Inline math: $f(x)$\n",
        "\n",
        "### Full line:\n",
        "\n",
        "```\n",
        "$$ f(x) $$\n",
        "```\n",
        "\n",
        "$$f(x)$$"
      ]
    }
  ]
}