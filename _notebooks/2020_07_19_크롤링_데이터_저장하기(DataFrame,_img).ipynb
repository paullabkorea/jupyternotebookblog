{
  "nbformat": 4,
  "nbformat_minor": 0,
  "metadata": {
    "colab": {
      "name": "2020-07-19-크롤링 데이터 저장하기(DataFrame, img).ipynb",
      "provenance": [],
      "collapsed_sections": []
    },
    "kernelspec": {
      "name": "python3",
      "display_name": "Python 3"
    },
    "language_info": {
      "name": "python"
    }
  },
  "cells": [
    {
      "cell_type": "markdown",
      "metadata": {
        "id": "loPra1EPLwp3"
      },
      "source": [
        "# \"2021년 여름방학 특강 크롤링 데이터 저장하기\"\n",
        "> \"이미지(img), 데이터(DataFrame) 등 외부 데이터 저장하기\"\n",
        "\n",
        "- toc: true\n",
        "- branch: master\n",
        "- badges: true\n",
        "- comments: true\n",
        "- author: 이호준\n",
        "- categories: [crawling]"
      ]
    },
    {
      "cell_type": "markdown",
      "metadata": {
        "id": "3Qv1_yCfO_eq"
      },
      "source": [
        "## 크롤링 기본 코드"
      ]
    },
    {
      "cell_type": "code",
      "metadata": {
        "id": "3K-0nd2qcepE"
      },
      "source": [
        "# 실행시키지 마세요.\n",
        "import requests\n",
        "from bs4 import BeautifulSoup\n",
        "\n",
        "url = '수정필요'\n",
        "response = requests.get(url)\n",
        "response.encoding = 'utf-8'\n",
        "html = response.text\n",
        "\n",
        "soup = BeautifulSoup(html, 'html.parser')\n",
        "\n",
        "datagroup = soup.select('수정필요') # 클래스 '.' , 아이디 '#' \n",
        "for no, data in enumerate(datagroup, 1):\n",
        "    print(no, data.text)"
      ],
      "execution_count": null,
      "outputs": []
    },
    {
      "cell_type": "code",
      "metadata": {
        "colab": {
          "base_uri": "https://localhost:8080/"
        },
        "id": "fvURUCJTg4po",
        "outputId": "53ee58d3-1f80-4616-85f1-aa40dd0a3c29"
      },
      "source": [
        "import requests\n",
        "from bs4 import BeautifulSoup\n",
        "\n",
        "url = 'https://ridibooks.com/category/bestsellers/2200'\n",
        "response = requests.get(url)\n",
        "response.encoding = 'utf-8'\n",
        "html = response.text\n",
        "\n",
        "soup = BeautifulSoup(html, 'html.parser')\n",
        "\n",
        "datagroup = soup.select('.title_text') # 클래스 '.' , 아이디 '#' \n",
        "for no, data in enumerate(datagroup, 1):\n",
        "    print(no, data.text.strip())"
      ],
      "execution_count": 6,
      "outputs": [
        {
          "output_type": "stream",
          "text": [
            "1 한 권으로 읽는 컴퓨터 구조와 프로그래밍\n",
            "2 개발자에서 아키텍트로\n",
            "3 시드 마이어\n",
            "4 컨테이너 인프라 환경 구축을 위한 쿠버네티스/도커\n",
            "5 오브젝트\n",
            "6 풀스택 서버리스\n",
            "7 업무에 바로 쓰는 SQL 튜닝\n",
            "8 웹소설 써서 먹고삽니다\n",
            "9 메타버스, 이미 시작된 미래\n",
            "10 파이썬으로 살펴보는 아키텍처 패턴\n",
            "11 그림으로 이해하는 AWS 구조와 기술\n",
            "12 개정판 | 리팩터링 (2판)\n",
            "13 데이터 스토리\n",
            "14 러닝 리액트(2판)\n",
            "15 일잘러의 비밀, 구글 스프레드시트 제대로 파헤치기\n",
            "16 눈치껏 못 배웁니다, 일센스\n",
            "17 스프링 부트와 AWS로 혼자 구현하는 웹 서비스\n",
            "18 로블록스 게임 제작 무작정 따라하기\n",
            "19 Do it! 점프 투 파이썬 -전면 개정판\n",
            "20 UX/UI의 10가지 심리학 법칙\n"
          ],
          "name": "stdout"
        }
      ]
    },
    {
      "cell_type": "markdown",
      "metadata": {
        "id": "5xRgxKdpOzuh"
      },
      "source": [
        "## 이미지 크롤링 데이터 저장하기"
      ]
    },
    {
      "cell_type": "code",
      "metadata": {
        "id": "k1i25gR6ivtj"
      },
      "source": [
        "import shutil # 고수준의 파일연산 라이브러리\n",
        "import requests # request를 보낼 수 있는 라이브러리\n",
        "\n",
        "url = 'https://img.ridicdn.net/cover/194000109/xxlarge#1'\n",
        "r = requests.get(url, stream=True)\n",
        "with open('sample.jpg', 'wb') as f:\n",
        "    r.raw.decode_content = True\n",
        "    shutil.copyfileobj(r.raw, f)"
      ],
      "execution_count": null,
      "outputs": []
    },
    {
      "cell_type": "code",
      "metadata": {
        "id": "VobBPnUY21FI"
      },
      "source": [
        "# https://img.ridicdn.net/cover/194000109/xxlarge#1\n",
        "import requests\n",
        "from bs4 import BeautifulSoup\n",
        "\n",
        "r = requests.get('https://img.ridicdn.net/cover/194000109/xxlarge#1', stream=True)\n",
        "if r.status_code == 200:\n",
        "    with open('test.jpg', 'wb') as f:\n",
        "        for data in r.iter_content(1024):\n",
        "            f.write(data)"
      ],
      "execution_count": 3,
      "outputs": []
    },
    {
      "cell_type": "markdown",
      "metadata": {
        "id": "DdjmuG-pO5Mr"
      },
      "source": [
        "## 크롤링 데이터 홈페이지로 저장하기"
      ]
    },
    {
      "cell_type": "code",
      "metadata": {
        "colab": {
          "base_uri": "https://localhost:8080/"
        },
        "id": "TMOwf_A6jNcN",
        "outputId": "602f4ad4-6b96-49c4-f944-4e8ef6b9810c"
      },
      "source": [
        "import requests\n",
        "from bs4 import BeautifulSoup\n",
        "\n",
        "url = 'https://ridibooks.com/category/bestsellers/2200'\n",
        "response = requests.get(url)\n",
        "response.encoding = 'utf-8'\n",
        "html = response.text\n",
        "\n",
        "soup = BeautifulSoup(html, 'html.parser')\n",
        "\n",
        "datagroup = soup.select('.thumbnail') # 클래스 '.' , 아이디 '#' \n",
        "\n",
        "for data in datagroup:\n",
        "    print('https:' + data['data-src'][:-7] + 'xxlarge#1')"
      ],
      "execution_count": null,
      "outputs": [
        {
          "output_type": "stream",
          "text": [
            "https://img.ridicdn.net/cover/194000109/xxlarge#1\n",
            "https://img.ridicdn.net/cover/3649000021/xxlarge#1\n",
            "https://img.ridicdn.net/cover/443000917/xxlarge#1\n",
            "https://img.ridicdn.net/cover/194000106/xxlarge#1\n",
            "https://img.ridicdn.net/cover/754031863/xxlarge#1\n",
            "https://img.ridicdn.net/cover/4489000001/xxlarge#1\n",
            "https://img.ridicdn.net/cover/443000912/xxlarge#1\n",
            "https://img.ridicdn.net/cover/754031846/xxlarge#1\n",
            "https://img.ridicdn.net/cover/222002588/xxlarge#1\n",
            "https://img.ridicdn.net/cover/2777000044/xxlarge#1\n",
            "https://img.ridicdn.net/cover/1160000024/xxlarge#1\n",
            "https://img.ridicdn.net/cover/1370000008/xxlarge#1\n",
            "https://img.ridicdn.net/cover/1160000029/xxlarge#1\n",
            "https://img.ridicdn.net/cover/443000859/xxlarge#1\n",
            "https://img.ridicdn.net/cover/3903000015/xxlarge#1\n",
            "https://img.ridicdn.net/cover/754026976/xxlarge#1\n",
            "https://img.ridicdn.net/cover/194000105/xxlarge#1\n",
            "https://img.ridicdn.net/cover/3780000117/xxlarge#1\n",
            "https://img.ridicdn.net/cover/443000914/xxlarge#1\n",
            "https://img.ridicdn.net/cover/443000907/xxlarge#1\n"
          ],
          "name": "stdout"
        }
      ]
    },
    {
      "cell_type": "code",
      "metadata": {
        "colab": {
          "base_uri": "https://localhost:8080/",
          "height": 35
        },
        "id": "3PtGSzxemYKA",
        "outputId": "8d1974ae-f54d-4dd6-a79b-39c6ee43093b"
      },
      "source": [
        "'https:' + datagroup[0]['data-src']"
      ],
      "execution_count": null,
      "outputs": [
        {
          "output_type": "execute_result",
          "data": {
            "application/vnd.google.colaboratory.intrinsic+json": {
              "type": "string"
            },
            "text/plain": [
              "'https://img.ridicdn.net/cover/194000109/large#1'"
            ]
          },
          "metadata": {
            "tags": []
          },
          "execution_count": 18
        }
      ]
    },
    {
      "cell_type": "code",
      "metadata": {
        "id": "t7QUcmyKn8iM"
      },
      "source": [
        "import requests\n",
        "from bs4 import BeautifulSoup\n",
        "import pandas as pd\n",
        "\n",
        "url = 'https://ridibooks.com/category/bestsellers/2200'\n",
        "response = requests.get(url)\n",
        "response.encoding = 'utf-8'\n",
        "html = response.text\n",
        "\n",
        "soup = BeautifulSoup(html, 'html.parser')\n",
        "\n",
        "책순위 = []\n",
        "책제목 = []\n",
        "책이미지 = []\n",
        "\n",
        "책제목크롤링 = soup.select('.title_text')\n",
        "for no, data in enumerate(책제목크롤링, 1):\n",
        "    책순위.append(no)\n",
        "    책제목.append(data.text.strip())\n",
        "\n",
        "책이미지크롤링 = soup.select('.thumbnail') \n",
        "\n",
        "for data in 책이미지크롤링:\n",
        "    책이미지.append('https:' + data['data-src'][:-7] + 'xxlarge#1')\n",
        "\n",
        "데이터 = {\n",
        "    '책순위':책순위,\n",
        "    '책제목':책제목,\n",
        "    '책이미지':책이미지\n",
        "}"
      ],
      "execution_count": null,
      "outputs": []
    },
    {
      "cell_type": "code",
      "metadata": {
        "colab": {
          "base_uri": "https://localhost:8080/",
          "height": 847
        },
        "id": "XNTrVGlLn97T",
        "outputId": "9c255ee6-93a6-490d-9400-8234c48edc1a"
      },
      "source": [
        "데이터 = pd.DataFrame(데이터)\n",
        "데이터"
      ],
      "execution_count": null,
      "outputs": [
        {
          "output_type": "execute_result",
          "data": {
            "text/html": [
              "<div>\n",
              "<style scoped>\n",
              "    .dataframe tbody tr th:only-of-type {\n",
              "        vertical-align: middle;\n",
              "    }\n",
              "\n",
              "    .dataframe tbody tr th {\n",
              "        vertical-align: top;\n",
              "    }\n",
              "\n",
              "    .dataframe thead th {\n",
              "        text-align: right;\n",
              "    }\n",
              "</style>\n",
              "<table border=\"1\" class=\"dataframe\">\n",
              "  <thead>\n",
              "    <tr style=\"text-align: right;\">\n",
              "      <th></th>\n",
              "      <th>책순위</th>\n",
              "      <th>책제목</th>\n",
              "      <th>책이미지</th>\n",
              "    </tr>\n",
              "  </thead>\n",
              "  <tbody>\n",
              "    <tr>\n",
              "      <th>0</th>\n",
              "      <td>1</td>\n",
              "      <td>시드 마이어</td>\n",
              "      <td>https://img.ridicdn.net/cover/194000109/xxlarge#1</td>\n",
              "    </tr>\n",
              "    <tr>\n",
              "      <th>1</th>\n",
              "      <td>2</td>\n",
              "      <td>한 권으로 읽는 컴퓨터 구조와 프로그래밍</td>\n",
              "      <td>https://img.ridicdn.net/cover/3649000021/xxlar...</td>\n",
              "    </tr>\n",
              "    <tr>\n",
              "      <th>2</th>\n",
              "      <td>3</td>\n",
              "      <td>개발자에서 아키텍트로</td>\n",
              "      <td>https://img.ridicdn.net/cover/443000917/xxlarge#1</td>\n",
              "    </tr>\n",
              "    <tr>\n",
              "      <th>3</th>\n",
              "      <td>4</td>\n",
              "      <td>Node.js 디자인 패턴 바이블</td>\n",
              "      <td>https://img.ridicdn.net/cover/194000106/xxlarge#1</td>\n",
              "    </tr>\n",
              "    <tr>\n",
              "      <th>4</th>\n",
              "      <td>5</td>\n",
              "      <td>컨테이너 인프라 환경 구축을 위한 쿠버네티스/도커</td>\n",
              "      <td>https://img.ridicdn.net/cover/754031863/xxlarge#1</td>\n",
              "    </tr>\n",
              "    <tr>\n",
              "      <th>5</th>\n",
              "      <td>6</td>\n",
              "      <td>비전공자를 위한 이해할 수 있는 IT 지식</td>\n",
              "      <td>https://img.ridicdn.net/cover/4489000001/xxlar...</td>\n",
              "    </tr>\n",
              "    <tr>\n",
              "      <th>6</th>\n",
              "      <td>7</td>\n",
              "      <td>파이썬으로 살펴보는 아키텍처 패턴</td>\n",
              "      <td>https://img.ridicdn.net/cover/443000912/xxlarge#1</td>\n",
              "    </tr>\n",
              "    <tr>\n",
              "      <th>7</th>\n",
              "      <td>8</td>\n",
              "      <td>Let's Get IT 자바스크립트 프로그래밍</td>\n",
              "      <td>https://img.ridicdn.net/cover/754031846/xxlarge#1</td>\n",
              "    </tr>\n",
              "    <tr>\n",
              "      <th>8</th>\n",
              "      <td>9</td>\n",
              "      <td>눈치껏 못 배웁니다, 일센스</td>\n",
              "      <td>https://img.ridicdn.net/cover/222002588/xxlarge#1</td>\n",
              "    </tr>\n",
              "    <tr>\n",
              "      <th>9</th>\n",
              "      <td>10</td>\n",
              "      <td>메타버스, 이미 시작된 미래</td>\n",
              "      <td>https://img.ridicdn.net/cover/2777000044/xxlar...</td>\n",
              "    </tr>\n",
              "    <tr>\n",
              "      <th>10</th>\n",
              "      <td>11</td>\n",
              "      <td>모던 자바스크립트 Deep Dive</td>\n",
              "      <td>https://img.ridicdn.net/cover/1160000024/xxlar...</td>\n",
              "    </tr>\n",
              "    <tr>\n",
              "      <th>11</th>\n",
              "      <td>12</td>\n",
              "      <td>비전공자도 배워서 바로 쓰는 비즈니스 데이터 분석 입문</td>\n",
              "      <td>https://img.ridicdn.net/cover/1370000008/xxlar...</td>\n",
              "    </tr>\n",
              "    <tr>\n",
              "      <th>12</th>\n",
              "      <td>13</td>\n",
              "      <td>개정판 | 시작하세요! 도커/쿠버네티스</td>\n",
              "      <td>https://img.ridicdn.net/cover/1160000029/xxlar...</td>\n",
              "    </tr>\n",
              "    <tr>\n",
              "      <th>13</th>\n",
              "      <td>14</td>\n",
              "      <td>혼자 공부하는 머신러닝+딥러닝</td>\n",
              "      <td>https://img.ridicdn.net/cover/443000859/xxlarge#1</td>\n",
              "    </tr>\n",
              "    <tr>\n",
              "      <th>14</th>\n",
              "      <td>15</td>\n",
              "      <td>스프링 부트와 AWS로 혼자 구현하는 웹 서비스</td>\n",
              "      <td>https://img.ridicdn.net/cover/3903000015/xxlar...</td>\n",
              "    </tr>\n",
              "    <tr>\n",
              "      <th>15</th>\n",
              "      <td>16</td>\n",
              "      <td>개정판 | 리액트를 다루는 기술</td>\n",
              "      <td>https://img.ridicdn.net/cover/754026976/xxlarge#1</td>\n",
              "    </tr>\n",
              "    <tr>\n",
              "      <th>16</th>\n",
              "      <td>17</td>\n",
              "      <td>다재다능 코틀린 프로그래밍</td>\n",
              "      <td>https://img.ridicdn.net/cover/194000105/xxlarge#1</td>\n",
              "    </tr>\n",
              "    <tr>\n",
              "      <th>17</th>\n",
              "      <td>18</td>\n",
              "      <td>Vue.js 프로젝트 투입 일주일 전</td>\n",
              "      <td>https://img.ridicdn.net/cover/3780000117/xxlar...</td>\n",
              "    </tr>\n",
              "    <tr>\n",
              "      <th>18</th>\n",
              "      <td>19</td>\n",
              "      <td>NGINX 쿡북</td>\n",
              "      <td>https://img.ridicdn.net/cover/443000914/xxlarge#1</td>\n",
              "    </tr>\n",
              "    <tr>\n",
              "      <th>19</th>\n",
              "      <td>20</td>\n",
              "      <td>일잘러의 비밀, 구글 스프레드시트 제대로 파헤치기</td>\n",
              "      <td>https://img.ridicdn.net/cover/443000907/xxlarge#1</td>\n",
              "    </tr>\n",
              "  </tbody>\n",
              "</table>\n",
              "</div>"
            ],
            "text/plain": [
              "    책순위  ...                                               책이미지\n",
              "0     1  ...  https://img.ridicdn.net/cover/194000109/xxlarge#1\n",
              "1     2  ...  https://img.ridicdn.net/cover/3649000021/xxlar...\n",
              "2     3  ...  https://img.ridicdn.net/cover/443000917/xxlarge#1\n",
              "3     4  ...  https://img.ridicdn.net/cover/194000106/xxlarge#1\n",
              "4     5  ...  https://img.ridicdn.net/cover/754031863/xxlarge#1\n",
              "5     6  ...  https://img.ridicdn.net/cover/4489000001/xxlar...\n",
              "6     7  ...  https://img.ridicdn.net/cover/443000912/xxlarge#1\n",
              "7     8  ...  https://img.ridicdn.net/cover/754031846/xxlarge#1\n",
              "8     9  ...  https://img.ridicdn.net/cover/222002588/xxlarge#1\n",
              "9    10  ...  https://img.ridicdn.net/cover/2777000044/xxlar...\n",
              "10   11  ...  https://img.ridicdn.net/cover/1160000024/xxlar...\n",
              "11   12  ...  https://img.ridicdn.net/cover/1370000008/xxlar...\n",
              "12   13  ...  https://img.ridicdn.net/cover/1160000029/xxlar...\n",
              "13   14  ...  https://img.ridicdn.net/cover/443000859/xxlarge#1\n",
              "14   15  ...  https://img.ridicdn.net/cover/3903000015/xxlar...\n",
              "15   16  ...  https://img.ridicdn.net/cover/754026976/xxlarge#1\n",
              "16   17  ...  https://img.ridicdn.net/cover/194000105/xxlarge#1\n",
              "17   18  ...  https://img.ridicdn.net/cover/3780000117/xxlar...\n",
              "18   19  ...  https://img.ridicdn.net/cover/443000914/xxlarge#1\n",
              "19   20  ...  https://img.ridicdn.net/cover/443000907/xxlarge#1\n",
              "\n",
              "[20 rows x 3 columns]"
            ]
          },
          "metadata": {
            "tags": []
          },
          "execution_count": 25
        }
      ]
    },
    {
      "cell_type": "code",
      "metadata": {
        "id": "ywcc1-6fpynp"
      },
      "source": [
        "def 이미지양식변환(path):\n",
        "    return '<img src=\"'+ path + '\" width=\"100px\" >'\n",
        "\n",
        "데이터.to_html('index.html', escape=False, formatters=dict(책이미지=이미지양식변환))"
      ],
      "execution_count": null,
      "outputs": []
    },
    {
      "cell_type": "code",
      "metadata": {
        "id": "zZ4DZu5Vp-Nq"
      },
      "source": [
        "#이렇게 하지 마세요.\n",
        "s = ''\n",
        "for i, j, k in zip(책순위, 책제목, 책이미지):\n",
        "    s += f'<tr>\\\n",
        "                <td>{i}</td>\\\n",
        "                <td>{j}</td>\\\n",
        "                <td><img src={k}></td>\\\n",
        "           </tr>'\n",
        "s = '<table>' + s + '</table>'\n",
        "with open(\"노동.html\", \"w\") as f:\n",
        "    f.write(s)"
      ],
      "execution_count": null,
      "outputs": []
    },
    {
      "cell_type": "markdown",
      "metadata": {
        "id": "sAofnqivPFcv"
      },
      "source": [
        "## 크롤링 이미지 데이터 파일로 저장하기"
      ]
    },
    {
      "cell_type": "code",
      "metadata": {
        "colab": {
          "base_uri": "https://localhost:8080/"
        },
        "id": "iyFNH-bfOrh0",
        "outputId": "528925c7-bac1-4c77-ee20-6b5d83636a5c"
      },
      "source": [
        "import requests\n",
        "from bs4 import BeautifulSoup\n",
        "import shutil # 고수준의 파일연산 라이브러리\n",
        "\n",
        "url = 'https://ridibooks.com/category/bestsellers/2200'\n",
        "response = requests.get(url)\n",
        "response.encoding = 'utf-8'\n",
        "html = response.text\n",
        "\n",
        "soup = BeautifulSoup(html, 'html.parser')\n",
        "\n",
        "datagroup = soup.select('.thumbnail') # 클래스 '.' , 아이디 '#' \n",
        "\n",
        "for data in datagroup:\n",
        "    print('https:' + data['data-src'][:-7] + 'xxlarge#1')\n",
        "\n",
        "'''\n",
        "url = 'https://img.ridicdn.net/cover/194000109/xxlarge#1'\n",
        "r = requests.get(url, stream=True)\n",
        "with open('sample.jpg', 'wb') as f:\n",
        "    r.raw.decode_content = True\n",
        "    shutil.copyfileobj(r.raw, f)\n",
        "'''"
      ],
      "execution_count": 7,
      "outputs": [
        {
          "output_type": "stream",
          "text": [
            "https://img.ridicdn.net/cover/3649000021/xxlarge#1\n",
            "https://img.ridicdn.net/cover/443000917/xxlarge#1\n",
            "https://img.ridicdn.net/cover/194000109/xxlarge#1\n",
            "https://img.ridicdn.net/cover/754031863/xxlarge#1\n",
            "https://img.ridicdn.net/cover/1160000027/xxlarge#1\n",
            "https://img.ridicdn.net/cover/443000925/xxlarge#1\n",
            "https://img.ridicdn.net/cover/443000922/xxlarge#1\n",
            "https://img.ridicdn.net/cover/754031183/xxlarge#1\n",
            "https://img.ridicdn.net/cover/2777000044/xxlarge#1\n",
            "https://img.ridicdn.net/cover/443000912/xxlarge#1\n",
            "https://img.ridicdn.net/cover/754031919/xxlarge#1\n",
            "https://img.ridicdn.net/cover/443000786/xxlarge#1\n",
            "https://img.ridicdn.net/cover/443000924/xxlarge#1\n",
            "https://img.ridicdn.net/cover/443000923/xxlarge#1\n",
            "https://img.ridicdn.net/cover/443000907/xxlarge#1\n",
            "https://img.ridicdn.net/cover/222002588/xxlarge#1\n",
            "https://img.ridicdn.net/cover/3903000015/xxlarge#1\n",
            "https://img.ridicdn.net/cover/754031983/xxlarge#1\n",
            "https://img.ridicdn.net/cover/754026225/xxlarge#1\n",
            "https://img.ridicdn.net/cover/3649000017/xxlarge#1\n"
          ],
          "name": "stdout"
        }
      ]
    },
    {
      "cell_type": "code",
      "metadata": {
        "id": "09Kb5WZdPgy3"
      },
      "source": [
        "import requests\n",
        "from bs4 import BeautifulSoup\n",
        "import shutil # 고수준의 파일연산 라이브러리\n",
        "\n",
        "url = 'https://ridibooks.com/category/bestsellers/2200'\n",
        "response = requests.get(url)\n",
        "response.encoding = 'utf-8'\n",
        "html = response.text\n",
        "\n",
        "soup = BeautifulSoup(html, 'html.parser')\n",
        "\n",
        "datagroup = soup.select('.thumbnail') # 클래스 '.' , 아이디 '#' \n",
        "filename = 0\n",
        "\n",
        "for data in datagroup:\n",
        "    url = 'https:' + data['data-src'][:-7] + 'xxlarge#1'\n",
        "    r = requests.get(url, stream=True)\n",
        "    #성산일출봉 폴더에 다운로드 받아 저장합니다.\n",
        "    with open('성산일출봉/' + str(filename) + '.jpg', 'wb') as f:\n",
        "        r.raw.decode_content = True\n",
        "        shutil.copyfileobj(r.raw, f)\n",
        "    filename += 1"
      ],
      "execution_count": 10,
      "outputs": []
    }
  ]
}